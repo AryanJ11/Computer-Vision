{
 "cells": [
  {
   "cell_type": "code",
   "execution_count": 4,
   "metadata": {},
   "outputs": [],
   "source": [
    "import cv2\n",
    "import numpy as np\n",
    "import matplotlib.pyplot as plt"
   ]
  },
  {
   "cell_type": "code",
   "execution_count": 15,
   "metadata": {},
   "outputs": [],
   "source": [
    "cap=cv2.VideoCapture(0)\n",
    "t=0"
   ]
  },
  {
   "cell_type": "code",
   "execution_count": null,
   "metadata": {},
   "outputs": [],
   "source": [
    "while(True):\n",
    "    _,frame=cap.read()\n",
    "    if t==0:\n",
    "        img=frame\n",
    "\n",
    "    h=cv2.cvtColor(frame, cv2.COLOR_BGR2HSV)\n",
    "    t=t+1\n",
    "    l_r=np.array([0,120,100])\n",
    "    u_r=np.array([10,255,255])\n",
    "    mask1=cv2.inRange(h,l_r,u_r)\n",
    "    l_r=np.array([170,120,70])\n",
    "    u_r=np.array([180,255,255])\n",
    "    mask2=cv2.inRange(h,l_r,u_r)\n",
    "    mask=mask1+mask2\n",
    "    \n",
    "    mask=cv2.morphologyEx(mask,cv2.MORPH_OPEN,np.ones((3,3)))\n",
    "    mask=cv2.erode(mask,np.ones((5,5)),iterations=1)\n",
    "    mask=cv2.morphologyEx(mask,cv2.MORPH_CLOSE,np.ones((3,3)))\n",
    "    \n",
    "    mask1=cv2.bitwise_not(mask)\n",
    "    \n",
    "    re=cv2.bitwise_and(frame,frame,mask=mask1)\n",
    "    re1=cv2.bitwise_and(img,img,mask=mask)\n",
    "    \n",
    "    ref=cv2.addWeighted(re,1,re1,1,0)\n",
    "    if cv2.waitKey(1)==ord('q') & 0xff:\n",
    "        break\n",
    "    cv2.imshow('k',ref)    \n",
    "cap.release()\n",
    "cv2.destroyAllWindows()"
   ]
  },
  {
   "cell_type": "code",
   "execution_count": null,
   "metadata": {},
   "outputs": [],
   "source": []
  },
  {
   "cell_type": "code",
   "execution_count": null,
   "metadata": {},
   "outputs": [],
   "source": []
  },
  {
   "cell_type": "code",
   "execution_count": null,
   "metadata": {},
   "outputs": [],
   "source": []
  },
  {
   "cell_type": "code",
   "execution_count": null,
   "metadata": {},
   "outputs": [],
   "source": []
  },
  {
   "cell_type": "code",
   "execution_count": null,
   "metadata": {},
   "outputs": [],
   "source": []
  },
  {
   "cell_type": "code",
   "execution_count": null,
   "metadata": {},
   "outputs": [],
   "source": []
  },
  {
   "cell_type": "code",
   "execution_count": null,
   "metadata": {},
   "outputs": [],
   "source": []
  },
  {
   "cell_type": "code",
   "execution_count": null,
   "metadata": {},
   "outputs": [],
   "source": []
  }
 ],
 "metadata": {
  "kernelspec": {
   "display_name": "Python 3",
   "language": "python",
   "name": "python3"
  },
  "language_info": {
   "codemirror_mode": {
    "name": "ipython",
    "version": 3
   },
   "file_extension": ".py",
   "mimetype": "text/x-python",
   "name": "python",
   "nbconvert_exporter": "python",
   "pygments_lexer": "ipython3",
   "version": "3.7.9"
  }
 },
 "nbformat": 4,
 "nbformat_minor": 4
}
