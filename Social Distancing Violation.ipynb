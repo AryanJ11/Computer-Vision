{
 "cells": [
  {
   "cell_type": "code",
   "execution_count": 4,
   "metadata": {},
   "outputs": [],
   "source": [
    "import cv2\n",
    "import numpy as np\n",
    "import matplotlib.pyplot as plt\n",
    "import math"
   ]
  },
  {
   "cell_type": "code",
   "execution_count": 7,
   "metadata": {},
   "outputs": [],
   "source": [
    "def socialdist(dist,thresh):\n",
    "    viol=[]\n",
    "    for pt in dist:\n",
    "        vio=[]\n",
    "        for j in dist:\n",
    "            if j!=pt:\n",
    "                vio.append(((pt[0]-j[0])**2+(pt[1]-j[1])**2)**(0.5)<thresh)\n",
    "        viol.append(np.array(vio[-1]).all())       \n",
    "    return viol   "
   ]
  },
  {
   "cell_type": "code",
   "execution_count": 10,
   "metadata": {},
   "outputs": [],
   "source": [
    "cap=cv2.VideoCapture(r\"C:\\Users\\ARYAN JAIN\\Desktop\\people.mp4\")\n",
    "backg=cv2.bgsegm.createBackgroundSubtractorMOG()\n",
    "ret,frame1=cap.read()\n",
    "ret,frame2=cap.read()\n",
    "while(1):\n",
    "    _,frame1=cap.read()\n",
    "    #frame=cv2.absdiff(frame1,frame2)\n",
    "    bgmask=backg.apply(frame1)\n",
    "    bgg=cv2.bitwise_not(bgmask)\n",
    "    res=cv2.bitwise_and(frame1,frame1,mask=bgg)\n",
    "    res1=cv2.bitwise_and(frame1,frame1,mask=bgmask)\n",
    "    res2=cv2.addWeighted(res,1,res1,1,0)\n",
    "    _,contours,_=cv2.findContours(bgmask, cv2.CHAIN_APPROX_SIMPLE,cv2.RETR_TREE)\n",
    "    #cv2.drawContours(res2,contours,-1,(255,0,0),thickness=2)\n",
    "    dist=[]\n",
    "    point=[]\n",
    "    for contour in contours:\n",
    "        (x,y,w,h)=cv2.boundingRect(contour)\n",
    "        if cv2.contourArea(contour)>400:\n",
    "            point.append((x,y,w,h))\n",
    "            dist.append((2*x+w/2,2*y+h/2))\n",
    "    violators=socialdist(dist,700)\n",
    "    for i in range(len(violators)):\n",
    "        if(violators[i]):\n",
    "            cv2.rectangle(res2,(point[i][0],point[i][1]),(point[i][0]+point[i][2],point[i][1]+point[i][3]),(0,0,255),2)\n",
    "        else:\n",
    "            cv2.rectangle(res2,(point[i][0],point[i][1]),(point[i][0]+point[i][2],point[i][1]+point[i][3]),(0,255,0),2)\n",
    "    cv2.imshow(\"f1\",res)\n",
    "    cv2.imshow(\"f2\",frame1)\n",
    "    cv2.imshow(\"res\",res2)\n",
    "    #frame1=frame2\n",
    "    #ret,frame2=cap.read()\n",
    "    if cv2.waitKey(1)==ord('q') & 0xff:\n",
    "        break\n",
    "\n",
    "cap.release()\n",
    "cv2.destroyAllWindows()"
   ]
  },
  {
   "cell_type": "code",
   "execution_count": null,
   "metadata": {},
   "outputs": [],
   "source": []
  },
  {
   "cell_type": "code",
   "execution_count": null,
   "metadata": {},
   "outputs": [],
   "source": []
  },
  {
   "cell_type": "code",
   "execution_count": null,
   "metadata": {},
   "outputs": [],
   "source": []
  },
  {
   "cell_type": "code",
   "execution_count": null,
   "metadata": {},
   "outputs": [],
   "source": []
  }
 ],
 "metadata": {
  "kernelspec": {
   "display_name": "Python 3",
   "language": "python",
   "name": "python3"
  },
  "language_info": {
   "codemirror_mode": {
    "name": "ipython",
    "version": 3
   },
   "file_extension": ".py",
   "mimetype": "text/x-python",
   "name": "python",
   "nbconvert_exporter": "python",
   "pygments_lexer": "ipython3",
   "version": "3.7.7"
  }
 },
 "nbformat": 4,
 "nbformat_minor": 4
}
