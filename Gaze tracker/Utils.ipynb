{
 "cells": [
  {
   "cell_type": "code",
   "execution_count": 1,
   "id": "6ee31ef2",
   "metadata": {},
   "outputs": [],
   "source": [
    "def npshape(shape):\n",
    "    coords = np.zeros((68, 2), dtype=\"int32\")\n",
    "    for i in range(0, 68):\n",
    "        coords[i] = (shape.part(i).x, shape.part(i).y)\n",
    "    return coords"
   ]
  },
  {
   "cell_type": "code",
   "execution_count": 2,
   "id": "aaa4b535",
   "metadata": {},
   "outputs": [],
   "source": [
    "def mask_of_eye(mask, coor, shape):\n",
    "    pts=[shape[i] for i in coor]\n",
    "    pts=np.array(pts, dtype=np.int32)\n",
    "    mask=cv2.fillConvexPoly(mask, pts, 255)\n",
    "    return mask"
   ]
  },
  {
   "cell_type": "code",
   "execution_count": 3,
   "id": "ad962a24",
   "metadata": {},
   "outputs": [],
   "source": [
    "def contouring(thresh, mid, img, right=False):\n",
    "    _,cnts,_=cv2.findContours(thresh, cv2.RETR_EXTERNAL,cv2.CHAIN_APPROX_NONE)\n",
    "    try:\n",
    "        cnt = max(cnts, key = cv2.contourArea)\n",
    "        M = cv2.moments(cnt)\n",
    "        cx = int(M['m10']/M['m00'])\n",
    "        cy = int(M['m01']/M['m00'])\n",
    "        if right:\n",
    "            cx += mid\n",
    "        cv2.circle(img, (cx, cy), 2, (0, 0, 255), 1)\n",
    "        return (cx, cy)\n",
    "    except:\n",
    "        return (None, None)"
   ]
  }
 ],
 "metadata": {
  "kernelspec": {
   "display_name": "Python 3",
   "language": "python",
   "name": "python3"
  },
  "language_info": {
   "codemirror_mode": {
    "name": "ipython",
    "version": 3
   },
   "file_extension": ".py",
   "mimetype": "text/x-python",
   "name": "python",
   "nbconvert_exporter": "python",
   "pygments_lexer": "ipython3",
   "version": "3.5.6"
  }
 },
 "nbformat": 4,
 "nbformat_minor": 5
}
